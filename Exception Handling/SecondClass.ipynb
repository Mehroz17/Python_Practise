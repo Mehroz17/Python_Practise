{
 "cells": [
  {
   "cell_type": "code",
   "execution_count": 5,
   "metadata": {},
   "outputs": [
    {
     "name": "stdout",
     "output_type": "stream",
     "text": [
      "under age or overage\n"
     ]
    },
    {
     "ename": "SE",
     "evalue": "",
     "output_type": "error",
     "traceback": [
      "\u001b[1;31m---------------------------------------------------------------------------\u001b[0m",
      "\u001b[1;31mSE\u001b[0m                                        Traceback (most recent call last)",
      "\u001b[1;32me:\\Mehroz Personals\\PIAIC\\Second Time Admission\\AI\\Python Practise\\Practise for Python\\Exception Handling\\SecondClass.ipynb Cell 1\u001b[0m in \u001b[0;36m<cell line: 12>\u001b[1;34m()\u001b[0m\n\u001b[0;32m      <a href='vscode-notebook-cell:/e%3A/Mehroz%20Personals/PIAIC/Second%20Time%20Admission/AI/Python%20Practise/Practise%20for%20Python/Exception%20Handling/SecondClass.ipynb#W0sZmlsZQ%3D%3D?line=8'>9</a>\u001b[0m \u001b[39mclass\u001b[39;00m \u001b[39mSE\u001b[39;00m(\u001b[39mException\u001b[39;00m):\n\u001b[0;32m     <a href='vscode-notebook-cell:/e%3A/Mehroz%20Personals/PIAIC/Second%20Time%20Admission/AI/Python%20Practise/Practise%20for%20Python/Exception%20Handling/SecondClass.ipynb#W0sZmlsZQ%3D%3D?line=9'>10</a>\u001b[0m     \u001b[39mprint\u001b[39m(\u001b[39m\"\u001b[39m\u001b[39munder age or overage\u001b[39m\u001b[39m\"\u001b[39m)\n\u001b[1;32m---> <a href='vscode-notebook-cell:/e%3A/Mehroz%20Personals/PIAIC/Second%20Time%20Admission/AI/Python%20Practise/Practise%20for%20Python/Exception%20Handling/SecondClass.ipynb#W0sZmlsZQ%3D%3D?line=11'>12</a>\u001b[0m x \u001b[39m=\u001b[39m Student(\u001b[39m17\u001b[39;49m,\u001b[39m'\u001b[39;49m\u001b[39mFA20-BSE-071\u001b[39;49m\u001b[39m'\u001b[39;49m,\u001b[39m\"\u001b[39;49m\u001b[39mmuhammad Mehroz\u001b[39;49m\u001b[39m\"\u001b[39;49m)\n\u001b[0;32m     <a href='vscode-notebook-cell:/e%3A/Mehroz%20Personals/PIAIC/Second%20Time%20Admission/AI/Python%20Practise/Practise%20for%20Python/Exception%20Handling/SecondClass.ipynb#W0sZmlsZQ%3D%3D?line=12'>13</a>\u001b[0m \u001b[39mprint\u001b[39m(x\u001b[39m.\u001b[39mname)\n",
      "\u001b[1;32me:\\Mehroz Personals\\PIAIC\\Second Time Admission\\AI\\Python Practise\\Practise for Python\\Exception Handling\\SecondClass.ipynb Cell 1\u001b[0m in \u001b[0;36mStudent.__init__\u001b[1;34m(self, age, rollNO, name)\u001b[0m\n\u001b[0;32m      <a href='vscode-notebook-cell:/e%3A/Mehroz%20Personals/PIAIC/Second%20Time%20Admission/AI/Python%20Practise/Practise%20for%20Python/Exception%20Handling/SecondClass.ipynb#W0sZmlsZQ%3D%3D?line=1'>2</a>\u001b[0m \u001b[39mdef\u001b[39;00m \u001b[39m__init__\u001b[39m(\u001b[39mself\u001b[39m,age,rollNO, name):\n\u001b[0;32m      <a href='vscode-notebook-cell:/e%3A/Mehroz%20Personals/PIAIC/Second%20Time%20Admission/AI/Python%20Practise/Practise%20for%20Python/Exception%20Handling/SecondClass.ipynb#W0sZmlsZQ%3D%3D?line=2'>3</a>\u001b[0m     \u001b[39mif\u001b[39;00m(age\u001b[39m<\u001b[39m\u001b[39m18\u001b[39m \u001b[39mor\u001b[39;00m age\u001b[39m>\u001b[39m\u001b[39m60\u001b[39m):\n\u001b[1;32m----> <a href='vscode-notebook-cell:/e%3A/Mehroz%20Personals/PIAIC/Second%20Time%20Admission/AI/Python%20Practise/Practise%20for%20Python/Exception%20Handling/SecondClass.ipynb#W0sZmlsZQ%3D%3D?line=3'>4</a>\u001b[0m         \u001b[39mraise\u001b[39;00m SE\n\u001b[0;32m      <a href='vscode-notebook-cell:/e%3A/Mehroz%20Personals/PIAIC/Second%20Time%20Admission/AI/Python%20Practise/Practise%20for%20Python/Exception%20Handling/SecondClass.ipynb#W0sZmlsZQ%3D%3D?line=4'>5</a>\u001b[0m     \u001b[39mself\u001b[39m\u001b[39m.\u001b[39mrollNO \u001b[39m=\u001b[39m rollNO\n\u001b[0;32m      <a href='vscode-notebook-cell:/e%3A/Mehroz%20Personals/PIAIC/Second%20Time%20Admission/AI/Python%20Practise/Practise%20for%20Python/Exception%20Handling/SecondClass.ipynb#W0sZmlsZQ%3D%3D?line=5'>6</a>\u001b[0m     \u001b[39mself\u001b[39m\u001b[39m.\u001b[39mage \u001b[39m=\u001b[39mage\n",
      "\u001b[1;31mSE\u001b[0m: "
     ]
    }
   ],
   "source": [
    "class Student:\n",
    "    def __init__(self,age,rollNO, name):\n",
    "        try:\n",
    "             if(age<18 or age>60):\n",
    "                \n",
    "        self.rollNO = rollNO\n",
    "        self.age =age\n",
    "        self.name = name\n",
    "\n",
    "\n",
    "x = Student(17,'FA20-BSE-071',\"muhammad Mehroz\")\n",
    "print(x.name)"
   ]
  }
 ],
 "metadata": {
  "kernelspec": {
   "display_name": "Python 3.9.12 ('base')",
   "language": "python",
   "name": "python3"
  },
  "language_info": {
   "codemirror_mode": {
    "name": "ipython",
    "version": 3
   },
   "file_extension": ".py",
   "mimetype": "text/x-python",
   "name": "python",
   "nbconvert_exporter": "python",
   "pygments_lexer": "ipython3",
   "version": "3.9.12"
  },
  "orig_nbformat": 4,
  "vscode": {
   "interpreter": {
    "hash": "f3a52463084db90f96d29dcfcfd9bf276dba3c521d76c4c38c835392b64a093b"
   }
  }
 },
 "nbformat": 4,
 "nbformat_minor": 2
}
