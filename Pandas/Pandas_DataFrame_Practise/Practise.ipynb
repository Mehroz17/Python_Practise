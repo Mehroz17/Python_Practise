{
 "cells": [
  {
   "cell_type": "code",
   "execution_count": 9,
   "metadata": {},
   "outputs": [],
   "source": [
    "def name(first , last):\n",
    "    full_name = f\"{first}{last}\"\n",
    "    return full_name\n",
    "\n"
   ]
  },
  {
   "cell_type": "code",
   "execution_count": 10,
   "metadata": {},
   "outputs": [
    {
     "data": {
      "text/plain": [
       "'Muhammad Mehroz'"
      ]
     },
     "execution_count": 10,
     "metadata": {},
     "output_type": "execute_result"
    }
   ],
   "source": [
    "import unittest\n",
    "\n",
    "class test (unittest.TestCase):\n",
    "    def test_f (self):\n",
    "        f_na = name('janis','joplin')\n",
    "        self.assertEqual(f_na , \"Janis Joplin\")\n",
    "\n",
    "name(\"Muhammad \",\"Mehroz\")"
   ]
  },
  {
   "cell_type": "code",
   "execution_count": 5,
   "metadata": {},
   "outputs": [
    {
     "data": {
      "text/plain": [
       "[{'id': 2, 'name': 'Qasim'},\n",
       " {'id': 2, 'name': 'Qasim'},\n",
       " {'id': 4, 'name': 'SAIM'}]"
      ]
     },
     "execution_count": 5,
     "metadata": {},
     "output_type": "execute_result"
    }
   ],
   "source": [
    "s  = [\n",
    "    {'id': 2 ,'name':\"Qasim\"},\n",
    "    {'id': 2 ,'name':\"Qasim\"}\n",
    "]\n",
    "s[0]['id']\n",
    "new = {'id':4,'name':\"SAIM\"}\n",
    "s.append(new)\n",
    "s"
   ]
  }
 ],
 "metadata": {
  "kernelspec": {
   "display_name": "Python 3.9.12 ('base')",
   "language": "python",
   "name": "python3"
  },
  "language_info": {
   "codemirror_mode": {
    "name": "ipython",
    "version": 3
   },
   "file_extension": ".py",
   "mimetype": "text/x-python",
   "name": "python",
   "nbconvert_exporter": "python",
   "pygments_lexer": "ipython3",
   "version": "3.9.12"
  },
  "orig_nbformat": 4,
  "vscode": {
   "interpreter": {
    "hash": "f3a52463084db90f96d29dcfcfd9bf276dba3c521d76c4c38c835392b64a093b"
   }
  }
 },
 "nbformat": 4,
 "nbformat_minor": 2
}
